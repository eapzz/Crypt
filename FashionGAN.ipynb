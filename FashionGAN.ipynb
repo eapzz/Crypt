{
  "nbformat": 4,
  "nbformat_minor": 0,
  "metadata": {
    "colab": {
      "provenance": [],
      "gpuType": "T4"
    },
    "kernelspec": {
      "name": "python3",
      "display_name": "Python 3"
    },
    "language_info": {
      "name": "python"
    },
    "accelerator": "GPU"
  },
  "cells": [
    {
      "cell_type": "code",
      "source": [
        "import tensorflow as tf\n",
        "import tensorflow_datasets as tfds\n",
        "from matplotlib import pyplot as plt\n",
        "import numpy as np"
      ],
      "metadata": {
        "id": "WAmDg-JJUfnp"
      },
      "execution_count": 48,
      "outputs": []
    },
    {
      "cell_type": "code",
      "source": [
        "data = tfds.load('fashion_mnist', split ='train')"
      ],
      "metadata": {
        "id": "RPDhOiX2WrNx"
      },
      "execution_count": 49,
      "outputs": []
    },
    {
      "cell_type": "code",
      "source": [
        "dataiterator = data.as_numpy_iterator()\n",
        "\n",
        "# Visualization of dataset\n",
        "fig, ax = plt.subplots(ncols=8, figsize=(20, 20))\n",
        "for idx in range(8):\n",
        "    # extracting image and subplotting\n",
        "    sample = dataiterator.next()\n",
        "    image = np.squeeze(sample['image'])\n",
        "    label = sample['label']\n",
        "    ax[idx].imshow(image)\n",
        "    ax[idx].title.set_text(label)"
      ],
      "metadata": {
        "colab": {
          "base_uri": "https://localhost:8080/",
          "height": 108
        },
        "id": "yb0OKvxwUpqn",
        "outputId": "1bcf546c-ff9e-4b0b-ea01-fdd536536436"
      },
      "execution_count": 50,
      "outputs": [
        {
          "output_type": "display_data",
          "data": {
            "text/plain": [
              "<Figure size 2000x2000 with 8 Axes>"
            ],
            "image/png": "[encoded data removed]"
          },
          "metadata": {}
        }
      ]
    },
    {
      "cell_type": "code",
      "source": [
        "def scale_images(data):\n",
        "    image = data['image']\n",
        "    return image / 255 #scaling\n"
      ],
      "metadata": {
        "id": "6JjT28SsAuBX"
      },
      "execution_count": 51,
      "outputs": []
    },
    {
      "cell_type": "code",
      "source": [
        "data = data.map(scale_images) #scaling applied\n",
        "data = data.cache() #caching foer faster processing\n",
        "data = data.shuffle(60000) #adding randomness\n",
        "data = data.batch(128) #batch size = 128\n",
        "data = data.prefetch(64) #performance enhancement\n"
      ],
      "metadata": {
        "id": "Zee00UIM_Y1M"
      },
      "execution_count": 52,
      "outputs": []
    },
    {
      "cell_type": "code",
      "source": [
        "data.as_numpy_iterator().next().shape"
      ],
      "metadata": {
        "colab": {
          "base_uri": "https://localhost:8080/"
        },
        "id": "-MlYseiXWjCd",
        "outputId": "8185a9f8-d20f-4dd5-80de-122d9af43980"
      },
      "execution_count": 53,
      "outputs": [
        {
          "output_type": "execute_result",
          "data": {
            "text/plain": [
              "(128, 28, 28, 1)"
            ]
          },
          "metadata": {},
          "execution_count": 53
        }
      ]
    },
    {
      "cell_type": "code",
      "source": [
        "from tensorflow.keras.models import Sequential\n",
        "from tensorflow.keras.layers import (Conv2D, Dense, Flatten, Reshape, LeakyReLU, Dropout, UpSampling2D)"
      ],
      "metadata": {
        "id": "13AC_OVj_iHC"
      },
      "execution_count": 54,
      "outputs": []
    },
    {
      "cell_type": "code",
      "source": [
        "def build_generator():\n",
        "    model = Sequential()\n",
        "\n",
        "    model.add(Dense(7 * 7 * 128, input_dim=128))\n",
        "    model.add(LeakyReLU(0.2))\n",
        "    model.add(Reshape((7, 7, 128)))\n",
        "\n",
        "    model.add(UpSampling2D())\n",
        "    model.add(Conv2D(128, 5, padding='same'))\n",
        "    model.add(LeakyReLU(0.2))\n",
        "\n",
        "    model.add(UpSampling2D())\n",
        "    model.add(Conv2D(128, 5, padding='same'))\n",
        "    model.add(LeakyReLU(0.2))\n",
        "\n",
        "# Convolutional blocks\n",
        "\n",
        "    model.add(Conv2D(128, 4, padding='same'))\n",
        "    model.add(LeakyReLU(0.2))\n",
        "    model.add(Conv2D(128, 4, padding='same'))\n",
        "    model.add(LeakyReLU(0.2))\n",
        "    model.add(Conv2D(1, 4, padding='same', activation='sigmoid'))\n",
        "\n",
        "    return model\n",
        "\n",
        "generator = build_generator()\n",
        "generator.summary()\n",
        "\n"
      ],
      "metadata": {
        "colab": {
          "base_uri": "https://localhost:8080/"
        },
        "id": "7QioXdEo_nTF",
        "outputId": "bb784abe-a1e8-4f81-ac15-f7bf5d005fe0"
      },
      "execution_count": 55,
      "outputs": [
        {
          "output_type": "stream",
          "name": "stdout",
          "text": [
            "Model: \"sequential_4\"\n",
            "_________________________________________________________________\n",
            " Layer (type)                Output Shape              Param #   \n",
            "=================================================================\n",
            " dense_4 (Dense)             (None, 6272)              809088    \n",
            "                                                                 \n",
            " leaky_re_lu_18 (LeakyReLU)  (None, 6272)              0         \n",
            "                                                                 \n",
            " reshape_2 (Reshape)         (None, 7, 7, 128)         0         \n",
            "                                                                 \n",
            " up_sampling2d_4 (UpSamplin  (None, 14, 14, 128)       0         \n",
            " g2D)                                                            \n",
            "                                                                 \n",
            " conv2d_18 (Conv2D)          (None, 14, 14, 128)       409728    \n",
            "                                                                 \n",
            " leaky_re_lu_19 (LeakyReLU)  (None, 14, 14, 128)       0         \n",
            "                                                                 \n",
            " up_sampling2d_5 (UpSamplin  (None, 28, 28, 128)       0         \n",
            " g2D)                                                            \n",
            "                                                                 \n",
            " conv2d_19 (Conv2D)          (None, 28, 28, 128)       409728    \n",
            "                                                                 \n",
            " leaky_re_lu_20 (LeakyReLU)  (None, 28, 28, 128)       0         \n",
            "                                                                 \n",
            " conv2d_20 (Conv2D)          (None, 28, 28, 128)       262272    \n",
            "                                                                 \n",
            " leaky_re_lu_21 (LeakyReLU)  (None, 28, 28, 128)       0         \n",
            "                                                                 \n",
            " conv2d_21 (Conv2D)          (None, 28, 28, 128)       262272    \n",
            "                                                                 \n",
            " leaky_re_lu_22 (LeakyReLU)  (None, 28, 28, 128)       0         \n",
            "                                                                 \n",
            " conv2d_22 (Conv2D)          (None, 28, 28, 1)         2049      \n",
            "                                                                 \n",
            "=================================================================\n",
            "Total params: 2155137 (8.22 MB)\n",
            "Trainable params: 2155137 (8.22 MB)\n",
            "Non-trainable params: 0 (0.00 Byte)\n",
            "_________________________________________________________________\n"
          ]
        }
      ]
    },
    {
      "cell_type": "code",
      "source": [
        "def build_discriminator():\n",
        "    model = Sequential()\n",
        "\n",
        "#Conv blocks\n",
        "\n",
        "    model.add(Conv2D(32, 5, input_shape=(28, 28, 1)))\n",
        "    model.add(LeakyReLU(0.2))\n",
        "    model.add(Dropout(0.4))\n",
        "\n",
        "    model.add(Conv2D(64, 5))\n",
        "    model.add(LeakyReLU(0.2))\n",
        "    model.add(Dropout(0.4))\n",
        "\n",
        "    model.add(Conv2D(128, 5))\n",
        "    model.add(LeakyReLU(0.2))\n",
        "    model.add(Dropout(0.4))\n",
        "\n",
        "    model.add(Conv2D(256, 5))\n",
        "    model.add(LeakyReLU(0.2))\n",
        "    model.add(Dropout(0.4))\n",
        "\n",
        "    model.add(Flatten())\n",
        "    model.add(Dropout(0.4))\n",
        "    model.add(Dense(1, activation='sigmoid'))\n",
        "\n",
        "    return model\n",
        "\n",
        "discriminator = build_discriminator()\n",
        "discriminator.summary()"
      ],
      "metadata": {
        "colab": {
          "base_uri": "https://localhost:8080/"
        },
        "id": "YMzPPmI8Z0JT",
        "outputId": "cefeb0b8-d4a8-4cef-9906-9c12f6669e9b"
      },
      "execution_count": 56,
      "outputs": [
        {
          "output_type": "stream",
          "name": "stdout",
          "text": [
            "Model: \"sequential_5\"\n",
            "_________________________________________________________________\n",
            " Layer (type)                Output Shape              Param #   \n",
            "=================================================================\n",
            " conv2d_23 (Conv2D)          (None, 24, 24, 32)        832       \n",
            "                                                                 \n",
            " leaky_re_lu_23 (LeakyReLU)  (None, 24, 24, 32)        0         \n",
            "                                                                 \n",
            " dropout_10 (Dropout)        (None, 24, 24, 32)        0         \n",
            "                                                                 \n",
            " conv2d_24 (Conv2D)          (None, 20, 20, 64)        51264     \n",
            "                                                                 \n",
            " leaky_re_lu_24 (LeakyReLU)  (None, 20, 20, 64)        0         \n",
            "                                                                 \n",
            " dropout_11 (Dropout)        (None, 20, 20, 64)        0         \n",
            "                                                                 \n",
            " conv2d_25 (Conv2D)          (None, 16, 16, 128)       204928    \n",
            "                                                                 \n",
            " leaky_re_lu_25 (LeakyReLU)  (None, 16, 16, 128)       0         \n",
            "                                                                 \n",
            " dropout_12 (Dropout)        (None, 16, 16, 128)       0         \n",
            "                                                                 \n",
            " conv2d_26 (Conv2D)          (None, 12, 12, 256)       819456    \n",
            "                                                                 \n",
            " leaky_re_lu_26 (LeakyReLU)  (None, 12, 12, 256)       0         \n",
            "                                                                 \n",
            " dropout_13 (Dropout)        (None, 12, 12, 256)       0         \n",
            "                                                                 \n",
            " flatten_2 (Flatten)         (None, 36864)             0         \n",
            "                                                                 \n",
            " dropout_14 (Dropout)        (None, 36864)             0         \n",
            "                                                                 \n",
            " dense_5 (Dense)             (None, 1)                 36865     \n",
            "                                                                 \n",
            "=================================================================\n",
            "Total params: 1113345 (4.25 MB)\n",
            "Trainable params: 1113345 (4.25 MB)\n",
            "Non-trainable params: 0 (0.00 Byte)\n",
            "_________________________________________________________________\n"
          ]
        }
      ]
    },
    {
      "cell_type": "code",
      "source": [
        "from tensorflow.keras.optimizers import Adam\n",
        "from tensorflow.keras.losses import BinaryCrossentropy\n",
        "\n",
        "g_opt = Adam(learning_rate=0.0001)  #Generator optimizer\n",
        "d_opt = Adam(learning_rate=0.00001)  #Discriminator optimizer\n",
        "\n",
        "g_loss = BinaryCrossentropy()  #Generator loss function\n",
        "d_loss = BinaryCrossentropy()  #Discriminator loss function"
      ],
      "metadata": {
        "id": "c7fBWJjP_2qt"
      },
      "execution_count": 57,
      "outputs": []
    },
    {
      "cell_type": "code",
      "source": [
        "from tensorflow.keras.models import Model\n",
        "\n",
        "class FashionGAN(Model):\n",
        "    def __init__(self, generator, discriminator, *args, **kwargs):\n",
        "        super().__init__(*args, **kwargs)\n",
        "        self.generator = generator\n",
        "        self.discriminator = discriminator\n",
        "\n",
        "    def compile(self, g_opt, d_opt, g_loss, d_loss, *args, **kwargs):\n",
        "        super().compile(*args, **kwargs) # compiling with parent class\n",
        "        self.g_opt = g_opt\n",
        "        self.d_opt = d_opt\n",
        "        self.g_loss = g_loss\n",
        "        self.d_loss = d_loss\n",
        "\n",
        "    def train_step(self, train1):\n",
        "        real_images = train1\n",
        "        fake_images = self.generator(tf.random.normal((128, 128, 1)), training=False) #fake image generation using randng random noise\n",
        "\n",
        "\n",
        "        with tf.GradientTape() as d_tape: #training distributor\n",
        "            yhat_real = self.discriminator(real_images, training=True)\n",
        "            yhat_fake = self.discriminator(fake_images, training=True)\n",
        "            yhat_realfake = tf.concat([yhat_real, yhat_fake], axis=0)\n",
        "\n",
        "            y_realfake = tf.concat([tf.zeros_like(yhat_real), tf.ones_like(yhat_fake)], axis=0) #labels for both real and fake\n",
        "\n",
        "            noise_real = 0.15 * tf.random.uniform(tf.shape(yhat_real)) # adding noise to make realistic and robust\n",
        "            noise_fake = -0.15 * tf.random.uniform(tf.shape(yhat_fake))\n",
        "            y_realfake += tf.concat([noise_real, noise_fake], axis=0)\n",
        "\n",
        "            total_d_loss = self.d_loss(y_realfake, yhat_realfake) #total loss of discriminator\n",
        "\n",
        "        #backpropagation\n",
        "        dgrad = d_tape.gradient(total_d_loss, self.discriminator.trainable_variables)\n",
        "        self.d_opt.apply_gradients(zip(dgrad, self.discriminator.trainable_variables))\n",
        "\n",
        "\n",
        "        with tf.GradientTape() as g_tape: #generator training\n",
        "            gen_images = self.generator(tf.random.normal((128, 128, 1)), training=True)#gererating new images\n",
        "            predicted_labels = self.discriminator(gen_images, training=False) # values must be close to one since they are generated images\n",
        "            total_g_loss = self.g_loss(tf.zeros_like(predicted_labels), predicted_labels) #generator loss\n",
        "\n",
        "        # applying backpropagation\n",
        "        ggrad = g_tape.gradient(total_g_loss, self.generator.trainable_variables)\n",
        "        self.g_opt.apply_gradients(zip(ggrad, self.generator.trainable_variables))\n",
        "\n",
        "        return {\"d_loss\": total_d_loss, \"g_loss\": total_g_loss}\n",
        "\n",
        "fashgan = FashionGAN(generator, discriminator) #fashiongan instance\n",
        "fashgan.compile(g_opt, d_opt, g_loss, d_loss)"
      ],
      "metadata": {
        "id": "PKY--L-e_8Qm"
      },
      "execution_count": 60,
      "outputs": []
    },
    {
      "cell_type": "code",
      "source": [
        "import os\n",
        "from tensorflow.keras.preprocessing.image import array_to_img\n",
        "from tensorflow.keras.callbacks import Callback\n",
        "\n",
        "class ModelMonitor(Callback):\n",
        "    def __init__(self, num_img=3, latent_dim=128):\n",
        "        self.num_img = num_img\n",
        "        self.latent_dim = latent_dim\n",
        "\n",
        "    def on_epoch_end(self, epoch, logs=None):\n",
        "        random_latent_vectors = tf.random.uniform((self.num_img, self.latent_dim, 1)) #vectors created as an input\n",
        "        generated_images = self.model.generator(random_latent_vectors)\n",
        "        generated_images *= 255\n",
        "        generated_images.numpy() # fake images are generated\n",
        "        for i in range(self.num_img):\n",
        "            img = array_to_img(generated_images[i])\n",
        "            img.save(os.path.join('images', f'generated_img_{epoch}_{i}.png'))"
      ],
      "metadata": {
        "id": "ieRSExYFBW8I"
      },
      "execution_count": 61,
      "outputs": []
    },
    {
      "cell_type": "code",
      "source": [
        "# Training the model\n",
        "hist = fashgan.fit(data, epochs=20, callbacks=[ModelMonitor()])"
      ],
      "metadata": {
        "colab": {
          "base_uri": "https://localhost:8080/"
        },
        "id": "2XGyH0H4BYjB",
        "outputId": "c958dfea-bb12-4c02-e193-d2b47091a720"
      },
      "execution_count": 62,
      "outputs": [
        {
          "output_type": "stream",
          "name": "stdout",
          "text": [
            "Epoch 1/20\n",
            "469/469 [==============================] - 84s 166ms/step - d_loss: 0.4501 - g_loss: 1.2702\n",
            "Epoch 2/20\n",
            "469/469 [==============================] - 77s 165ms/step - d_loss: 0.6849 - g_loss: 0.7695\n",
            "Epoch 3/20\n",
            "469/469 [==============================] - 77s 164ms/step - d_loss: 0.6863 - g_loss: 0.6498\n",
            "Epoch 4/20\n",
            "469/469 [==============================] - 77s 165ms/step - d_loss: 0.6691 - g_loss: 0.6980\n",
            "Epoch 5/20\n",
            "469/469 [==============================] - 77s 164ms/step - d_loss: 0.6881 - g_loss: 0.5577\n",
            "Epoch 6/20\n",
            "469/469 [==============================] - 77s 165ms/step - d_loss: 0.6952 - g_loss: 0.6136\n",
            "Epoch 7/20\n",
            "469/469 [==============================] - 77s 164ms/step - d_loss: 0.6891 - g_loss: 0.6331\n",
            "Epoch 8/20\n",
            "469/469 [==============================] - 77s 164ms/step - d_loss: 0.6955 - g_loss: 0.6331\n",
            "Epoch 9/20\n",
            "469/469 [==============================] - 77s 165ms/step - d_loss: 0.6834 - g_loss: 0.6530\n",
            "Epoch 10/20\n",
            "469/469 [==============================] - 77s 165ms/step - d_loss: 0.6959 - g_loss: 0.6276\n",
            "Epoch 11/20\n",
            "469/469 [==============================] - 77s 164ms/step - d_loss: 0.6663 - g_loss: 0.7334\n",
            "Epoch 12/20\n",
            "469/469 [==============================] - 77s 164ms/step - d_loss: 0.5444 - g_loss: 0.8368\n",
            "Epoch 13/20\n",
            "469/469 [==============================] - 77s 164ms/step - d_loss: 0.3244 - g_loss: 0.0833\n",
            "Epoch 14/20\n",
            "469/469 [==============================] - 77s 164ms/step - d_loss: 0.2932 - g_loss: 0.0410\n",
            "Epoch 15/20\n",
            "469/469 [==============================] - 77s 164ms/step - d_loss: 0.2868 - g_loss: 0.0335\n",
            "Epoch 16/20\n",
            "469/469 [==============================] - 77s 164ms/step - d_loss: 0.2813 - g_loss: 0.0343\n",
            "Epoch 17/20\n",
            "469/469 [==============================] - 77s 164ms/step - d_loss: 0.2785 - g_loss: 0.0354\n",
            "Epoch 18/20\n",
            "469/469 [==============================] - 77s 164ms/step - d_loss: 0.2761 - g_loss: 0.0341\n",
            "Epoch 19/20\n",
            "469/469 [==============================] - 77s 164ms/step - d_loss: 0.2744 - g_loss: 0.0348\n",
            "Epoch 20/20\n",
            "469/469 [==============================] - 77s 164ms/step - d_loss: 0.2727 - g_loss: 0.0361\n"
          ]
        }
      ]
    },
    {
      "cell_type": "code",
      "source": [
        "import matplotlib.pyplot as plt\n",
        "\n",
        "# Plot the discriminator and generator losses\n",
        "plt.suptitle('Loss')\n",
        "plt.plot(hist.history['d_loss'], label='d_loss')\n",
        "plt.plot(hist.history['g_loss'], label='g_loss')\n",
        "plt.legend()\n",
        "plt.show()"
      ],
      "metadata": {
        "colab": {
          "base_uri": "https://localhost:8080/",
          "height": 478
        },
        "id": "SSZdRCuaBf75",
        "outputId": "8076e353-63c1-4963-d55b-bcfeb0eb4ee9"
      },
      "execution_count": 63,
      "outputs": [
        {
          "output_type": "display_data",
          "data": {
            "text/plain": [
              "<Figure size 640x480 with 1 Axes>"
            ],
            "image/png": "[encoded data removed]"
          },
          "metadata": {}
        }
      ]
    },
    {
      "cell_type": "code",
      "source": [
        "# To avoid the axes dont match arraty error by ensuring the model architecture matches the shape of the weights\n",
        "from keras.models import Model\n",
        "\n",
        "def freeze_layers(model):\n",
        "    for i in model.layers:\n",
        "        i.trainable = False\n",
        "        if isinstance(i, Model):\n",
        "            freeze_layers(i)\n",
        "    return model\n",
        "\n",
        "model_freezed = freeze_layers(generator)\n",
        "model_freezed.save(\"/content/generatormodel.h5\")"
      ],
      "metadata": {
        "colab": {
          "base_uri": "https://localhost:8080/"
        },
        "id": "lOEzb0XtSpn5",
        "outputId": "310b0db2-2eeb-4f2b-f67e-2ce953cb4d93"
      },
      "execution_count": 64,
      "outputs": [
        {
          "output_type": "stream",
          "name": "stderr",
          "text": [
            "/usr/local/lib/python3.10/dist-packages/keras/src/engine/training.py:3000: UserWarning: You are saving your model as an HDF5 file via `model.save()`. This file format is considered legacy. We recommend using instead the native Keras format, e.g. `model.save('my_model.keras')`.\n",
            "  saving_api.save_model(\n",
            "WARNING:tensorflow:Compiled the loaded model, but the compiled metrics have yet to be built. `model.compile_metrics` will be empty until you train or evaluate the model.\n"
          ]
        }
      ]
    },
    {
      "cell_type": "code",
      "source": [
        "generator.load_weights(\"/content/generatormodel.h5\")\n"
      ],
      "metadata": {
        "id": "mUEJ_KfHSxfy"
      },
      "execution_count": 65,
      "outputs": []
    },
    {
      "cell_type": "code",
      "source": [
        "# Generate new fashion images\n",
        "imgs = generator.predict(tf.random.normal((16, 128, 1)))\n",
        "\n",
        "# Plot the generated images\n",
        "fig, ax = plt.subplots(ncols=4, nrows=4, figsize=(10, 10))\n",
        "for r in range(4):\n",
        "    for c in range(4):\n",
        "        ax[r][c].imshow(imgs[(r + 1) * (c + 1) - 1])"
      ],
      "metadata": {
        "colab": {
          "base_uri": "https://localhost:8080/",
          "height": 660
        },
        "id": "LfIc30rHBlFn",
        "outputId": "ea9151f4-ef0c-4966-da2c-22e81b8b35d7"
      },
      "execution_count": 66,
      "outputs": [
        {
          "output_type": "stream",
          "name": "stdout",
          "text": [
            "1/1 [==============================] - 0s 89ms/step\n"
          ]
        },
        {
          "output_type": "display_data",
          "data": {
            "text/plain": [
              "<Figure size 1000x1000 with 16 Axes>"
            ],
            "image/png": "[encoded data removed]"
          },
          "metadata": {}
        }
      ]
    },
    {
      "cell_type": "code",
      "source": [
        "# Save the generator and discriminator models\n",
        "generator.save('generator.h5')\n",
        "discriminator.save('discriminator.h5')"
      ],
      "metadata": {
        "colab": {
          "base_uri": "https://localhost:8080/"
        },
        "id": "2jzAECwJBrft",
        "outputId": "4f72c38b-6c85-469d-8eaf-902a3ec1164c"
      },
      "execution_count": 67,
      "outputs": [
        {
          "output_type": "stream",
          "name": "stderr",
          "text": [
            "WARNING:tensorflow:Compiled the loaded model, but the compiled metrics have yet to be built. `model.compile_metrics` will be empty until you train or evaluate the model.\n",
            "WARNING:tensorflow:Compiled the loaded model, but the compiled metrics have yet to be built. `model.compile_metrics` will be empty until you train or evaluate the model.\n"
          ]
        }
      ]
    }
  ]
}